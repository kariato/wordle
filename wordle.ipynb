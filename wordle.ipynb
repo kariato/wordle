{
 "cells": [
  {
   "cell_type": "markdown",
   "id": "e6d3f3aa-84be-4f71-aeb0-ffbf4fa8e974",
   "metadata": {},
   "source": [
    "# Simple Wordle solver using frame work from openai query \n",
    "Modified it but open ai did a good job.\n",
    "Class called wordlesolver made it possible"
   ]
  },
  {
   "cell_type": "code",
   "execution_count": 1,
   "id": "32737416-dd20-49b7-8ad2-eb669e01a10d",
   "metadata": {},
   "outputs": [],
   "source": [
    "import collections\n",
    "\n",
    "class WordleSolver:\n",
    "    def __init__(self, wordlist):\n",
    "        self.wordlist = wordlist\n",
    "        self.word_frequency = collections.Counter(\"\".join(wordlist))\n",
    "        self.letters_in_position = {}\n",
    "        self.letters_not_in_position = {}\n",
    "        self.letters_out_of_position = []\n",
    "        self.letters_not_in_word = []\n",
    "        \n",
    "\n",
    "    def solve(self, result, letters_not_in_word):\n",
    "        \"\"\"\n",
    "        Solve Wordle given constraints.\n",
    "\n",
    "        :param letters_in_position: Dict[int, str] with positions (0-4) and their exact matching letters.\n",
    "        :param letters_out_of_position: Dict[str, List[int]] with letters and their wrong positions.\n",
    "        :param letters_not_in_word: List[str] of letters not in the word.\n",
    "        :return: Tuple of filtered words with likelihoods and probable letters with likelihoods.\n",
    "        \"\"\"\n",
    "        letters_in_position={i:result[i] for i in range(len(result)) if result[i].isupper()}\n",
    "        self.letters_in_position={**self.letters_in_position,**letters_in_position}\n",
    "        letters_not_in_position={i:result[i] for i in range(len(result)) if result[i].islower()}\n",
    "        self.letters_not_in_position={**self.letters_not_in_position,**letters_not_in_position}\n",
    "        letters_out_of_position=[result[i] for i in range(len(result)) if result[i].islower()]\n",
    "        self.letters_out_of_position.extend(letters_out_of_position)\n",
    "        self.letters_out_of_position=list(set(self.letters_out_of_position))\n",
    "        self.letters_not_in_word.extend([letters_not_in_word[i] for i in range(len(letters_not_in_word))])\n",
    "        \n",
    "        possible_words = []\n",
    "        for word in self.wordlist:\n",
    "            if not self._matches_constraints(word, letters_in_position, letters_out_of_position, letters_not_in_word):\n",
    "                continue\n",
    "            possible_words.append(word)\n",
    "\n",
    "        self.word_likelihoods = self._calculate_likelihoods(possible_words)\n",
    "        self.letter_likelihoods = self._letter_frequencies(possible_words)\n",
    "        self.word2 = self._word2()\n",
    "\n",
    "        return self.word_likelihoods, self.letter_likelihoods, self.word2\n",
    "\n",
    "    def _matches_constraints(self, word, letters_in_position, letters_out_of_position, letters_not_in_word):\n",
    "        if len([i for i in solver.letters_out_of_position if i not in word]) >0:\n",
    "            return False\n",
    "        if len([i for i,j in solver.letters_in_position.items() if word[i]!=j.lower() ])>0:\n",
    "                return False\n",
    "        if len([i for i,j in solver.letters_not_in_position.items() if word[i]==j ]):\n",
    "            return False\n",
    "        if len([i for i in solver.letters_not_in_word if i in word ])>0:\n",
    "            return False\n",
    "        return True\n",
    "\n",
    "    def _calculate_likelihoods(self, words):\n",
    "        total_words = len(words)\n",
    "        word_likelihoods = {word: sum(self.word_frequency[letter] for letter in word) for word in words}\n",
    "        return sorted(word_likelihoods.items(), key=lambda x: x[1], reverse=True)\n",
    "\n",
    "    def _letter_frequencies(self, words):\n",
    "        combined_letters = \"\".join(words)\n",
    "        letter_counts = collections.Counter(combined_letters)\n",
    "        total_letters = sum(letter_counts.values())\n",
    "        letter_likelihoods = {letter: count / total_letters for letter, count in letter_counts.items()}\n",
    "        return sorted(letter_likelihoods.items(), key=lambda x: x[1], reverse=True)\n",
    "\n",
    "\n",
    "    def _word2(self):\n",
    "        inplace=list(self.letters_in_position.values())\n",
    "        inplace.extend(list(self.letters_not_in_position.values()))\n",
    "        letter_likelihoods_2 = {i[0]:i[1] for i in self.letter_likelihoods if i[0] not in inplace} #inplace \n",
    "        word_likelihoods = {word: sum(letter_likelihoods_2[letter] for letter in set(list(word)) if letter in letter_likelihoods_2) for word in self.wordlist}\n",
    "        return sorted(word_likelihoods.items(), key=lambda x: x[1], reverse=True)[:10]\n",
    "        "
   ]
  },
  {
   "cell_type": "markdown",
   "id": "a84ad868-f4eb-426d-b88b-0fd16130bcf3",
   "metadata": {},
   "source": [
    "## Create the solver class"
   ]
  },
  {
   "cell_type": "code",
   "execution_count": 2,
   "id": "0877c24f-a69c-4804-aaa6-7d1e201dfa70",
   "metadata": {},
   "outputs": [],
   "source": [
    "import pandas as pd\n",
    "words_df=pd.read_csv(\"wordle.csv\",header=None)\n",
    "# Example Wordle word list (minimal for demonstration)\n",
    "word_list = words_df[0].to_list()\n",
    "solver = WordleSolver(word_list)\n"
   ]
  },
  {
   "cell_type": "markdown",
   "id": "50a90ca8-749c-47f7-8dfd-1efcf4a68a3c",
   "metadata": {},
   "source": [
    "### Call solver.solve to resolve\n",
    "input:\n",
    "-    guess:string Exact match letter in uppercase, letter present lowercase, miss period\n",
    "-    missed:string Letters not present\n",
    "Output:\n",
    "-    possible words with score\n",
    "-    likiehood of letter being present"
   ]
  },
  {
   "cell_type": "code",
   "execution_count": 5,
   "id": "56b675a0-b77c-4415-a56e-7a6102214030",
   "metadata": {},
   "outputs": [
    {
     "name": "stdout",
     "output_type": "stream",
     "text": [
      "Possible words with likelihoods: [('prose', 3922)]\n",
      "------------------------\n",
      "Probable letters with likelihoods: [('p', 0.2), ('r', 0.2), ('o', 0.2), ('s', 0.2), ('e', 0.2)]\n",
      "------------------------\n",
      "Probable words with good: [('copse', 0.6000000000000001), ('lapse', 0.6000000000000001), ('parse', 0.6000000000000001), ('paste', 0.6000000000000001), ('pause', 0.6000000000000001), ('pesky', 0.6000000000000001), ('pesto', 0.6000000000000001), ('phase', 0.6000000000000001), ('poesy', 0.6000000000000001), ('poise', 0.6000000000000001)]\n"
     ]
    }
   ],
   "source": [
    "words, letters, word2 = solver.solve(\"s..rE\",\"ta\")\n",
    "words, letters, word2 = solver.solve(\"r..SE\",\"in\")\n",
    "words, letters, word2 = solver.solve(\".o.SE\",\"hu\")\n",
    "\n",
    "#words, letters = solver.solve(\"RELAX\",\"\")\n",
    "\n",
    "\n",
    "#words, letters = solver.solve(\"..O..\",\"plnk\")\n",
    "print(\"Possible words with likelihoods:\", words)\n",
    "print(\"------------------------\")\n",
    "print(\"Probable letters with likelihoods:\", letters)\n",
    "print(\"------------------------\")\n",
    "print(\"Probable words with good:\", word2)"
   ]
  },
  {
   "cell_type": "markdown",
   "id": "d3ad86c2-759b-4071-990d-040db97731bc",
   "metadata": {},
   "source": [
    "# Competitive:"
   ]
  },
  {
   "cell_type": "code",
   "execution_count": 136,
   "id": "2668d4bb-ee4f-44b1-bcf9-51431d472447",
   "metadata": {},
   "outputs": [
    {
     "name": "stdout",
     "output_type": "stream",
     "text": [
      "stare\n"
     ]
    },
    {
     "name": "stdin",
     "output_type": "stream",
     "text": [
      "Enter response ..are\n"
     ]
    },
    {
     "name": "stdout",
     "output_type": "stream",
     "text": [
      "('rarer', 4909)\n",
      "stare\n"
     ]
    },
    {
     "name": "stdin",
     "output_type": "stream",
     "text": [
      "Enter response Ra.e.\n"
     ]
    },
    {
     "name": "stdout",
     "output_type": "stream",
     "text": [
      "('renal', 4405)\n",
      "stare\n"
     ]
    },
    {
     "name": "stdin",
     "output_type": "stream",
     "text": [
      "Enter response RE.Al\n"
     ]
    },
    {
     "name": "stdout",
     "output_type": "stream",
     "text": [
      "('relay', 4255)\n",
      "stare\n"
     ]
    },
    {
     "name": "stdin",
     "output_type": "stream",
     "text": [
      "Enter response RELA.\n"
     ]
    },
    {
     "name": "stdout",
     "output_type": "stream",
     "text": [
      "('relay', 4255)\n",
      "stare\n"
     ]
    },
    {
     "name": "stdin",
     "output_type": "stream",
     "text": [
      "Enter response RELa.\n"
     ]
    },
    {
     "ename": "IndexError",
     "evalue": "list index out of range",
     "output_type": "error",
     "traceback": [
      "\u001b[0;31m---------------------------------------------------------------------------\u001b[0m",
      "\u001b[0;31mIndexError\u001b[0m                                Traceback (most recent call last)",
      "Cell \u001b[0;32mIn[136], line 9\u001b[0m\n\u001b[1;32m      7\u001b[0m bad_letters\u001b[38;5;241m=\u001b[39m\u001b[38;5;124m\"\u001b[39m\u001b[38;5;124m\"\u001b[39m\u001b[38;5;241m.\u001b[39mjoin(\u001b[38;5;28mlist\u001b[39m(\u001b[38;5;28mset\u001b[39m(\u001b[38;5;28mlist\u001b[39m(current_word)) \u001b[38;5;241m-\u001b[39m  \u001b[38;5;28mset\u001b[39m(\u001b[38;5;28mlist\u001b[39m(guess\u001b[38;5;241m.\u001b[39mlower()\u001b[38;5;241m.\u001b[39mreplace(\u001b[38;5;124m'\u001b[39m\u001b[38;5;124m.\u001b[39m\u001b[38;5;124m'\u001b[39m,\u001b[38;5;124m'\u001b[39m\u001b[38;5;124m'\u001b[39m)))))\n\u001b[1;32m      8\u001b[0m words, letters \u001b[38;5;241m=\u001b[39m solver\u001b[38;5;241m.\u001b[39msolve(guess,bad_letters)\n\u001b[0;32m----> 9\u001b[0m \u001b[38;5;28mprint\u001b[39m(\u001b[43mwords\u001b[49m\u001b[43m[\u001b[49m\u001b[38;5;241;43m0\u001b[39;49m\u001b[43m]\u001b[49m)\n",
      "\u001b[0;31mIndexError\u001b[0m: list index out of range"
     ]
    }
   ],
   "source": [
    "solver = WordleSolver(word_list)\n",
    "current_word='stare'\n",
    "result='.....'\n",
    "while not result.isupper():\n",
    "    print(current_word)\n",
    "    guess=input(\"Enter response\")\n",
    "    bad_letters=\"\".join(list(set(list(current_word)) -  set(list(guess.lower().replace('.','')))))\n",
    "    words, letters = solver.solve(guess,bad_letters)\n",
    "    print(words[0])"
   ]
  },
  {
   "cell_type": "code",
   "execution_count": 135,
   "id": "267e6b30-d13b-4b63-850c-84323cfd8758",
   "metadata": {},
   "outputs": [
    {
     "data": {
      "text/plain": [
       "'st'"
      ]
     },
     "execution_count": 135,
     "metadata": {},
     "output_type": "execute_result"
    }
   ],
   "source": [
    "\n"
   ]
  },
  {
   "cell_type": "code",
   "execution_count": null,
   "id": "c7e26fe0-c158-487e-a48c-3d348c7d8fcb",
   "metadata": {},
   "outputs": [],
   "source": []
  }
 ],
 "metadata": {
  "kernelspec": {
   "display_name": "Python 3 (ipykernel)",
   "language": "python",
   "name": "python3"
  },
  "language_info": {
   "codemirror_mode": {
    "name": "ipython",
    "version": 3
   },
   "file_extension": ".py",
   "mimetype": "text/x-python",
   "name": "python",
   "nbconvert_exporter": "python",
   "pygments_lexer": "ipython3",
   "version": "3.10.16"
  }
 },
 "nbformat": 4,
 "nbformat_minor": 5
}
